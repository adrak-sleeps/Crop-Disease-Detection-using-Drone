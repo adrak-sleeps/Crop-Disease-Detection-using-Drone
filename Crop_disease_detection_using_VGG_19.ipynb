{
  "nbformat": 4,
  "nbformat_minor": 0,
  "metadata": {
    "colab": {
      "provenance": [],
      "include_colab_link": true
    },
    "kernelspec": {
      "name": "python3",
      "display_name": "Python 3"
    },
    "language_info": {
      "name": "python"
    },
    "accelerator": "GPU",
    "gpuClass": "standard"
  },
  "cells": [
    {
      "cell_type": "markdown",
      "metadata": {
        "id": "view-in-github",
        "colab_type": "text"
      },
      "source": [
        "<a href=\"https://colab.research.google.com/github/adrak-sleeps/Crop-Disease-Detection-using-Drone/blob/main/Crop_disease_detection_using_VGG_19.ipynb\" target=\"_parent\"><img src=\"https://colab.research.google.com/assets/colab-badge.svg\" alt=\"Open In Colab\"/></a>"
      ]
    },
    {
      "cell_type": "markdown",
      "source": [
        "# **Crop disease detection using VGG-19**"
      ],
      "metadata": {
        "id": "4fKXPLx5estz"
      }
    },
    {
      "cell_type": "markdown",
      "source": [
        "## **Download the PlantVillage Dataset**"
      ],
      "metadata": {
        "id": "_IMSf4A9e1Ig"
      }
    },
    {
      "cell_type": "code",
      "source": [
        "# Kaggle json file to uploaded from: https://drive.google.com/file/d/1n0C2zIUmul3OJUUjB3m4UiPiDauP5Q_l/view?usp=sharing"
      ],
      "metadata": {
        "id": "dFLB8Ko8WBN4"
      },
      "execution_count": null,
      "outputs": []
    },
    {
      "cell_type": "code",
      "source": [
        "!pip install -q kaggle\n",
        "from google.colab import files\n",
        "files.upload()"
      ],
      "metadata": {
        "colab": {
          "base_uri": "https://localhost:8080/",
          "height": 90
        },
        "id": "IoX9_yngdjAF",
        "outputId": "a2d4de5d-6085-41c4-f445-b0d87ad6811f"
      },
      "execution_count": 1,
      "outputs": [
        {
          "output_type": "display_data",
          "data": {
            "text/plain": [
              "<IPython.core.display.HTML object>"
            ],
            "text/html": [
              "\n",
              "     <input type=\"file\" id=\"files-228d4d41-0b19-421a-9c56-f18e9d139fb7\" name=\"files[]\" multiple disabled\n",
              "        style=\"border:none\" />\n",
              "     <output id=\"result-228d4d41-0b19-421a-9c56-f18e9d139fb7\">\n",
              "      Upload widget is only available when the cell has been executed in the\n",
              "      current browser session. Please rerun this cell to enable.\n",
              "      </output>\n",
              "      <script>// Copyright 2017 Google LLC\n",
              "//\n",
              "// Licensed under the Apache License, Version 2.0 (the \"License\");\n",
              "// you may not use this file except in compliance with the License.\n",
              "// You may obtain a copy of the License at\n",
              "//\n",
              "//      http://www.apache.org/licenses/LICENSE-2.0\n",
              "//\n",
              "// Unless required by applicable law or agreed to in writing, software\n",
              "// distributed under the License is distributed on an \"AS IS\" BASIS,\n",
              "// WITHOUT WARRANTIES OR CONDITIONS OF ANY KIND, either express or implied.\n",
              "// See the License for the specific language governing permissions and\n",
              "// limitations under the License.\n",
              "\n",
              "/**\n",
              " * @fileoverview Helpers for google.colab Python module.\n",
              " */\n",
              "(function(scope) {\n",
              "function span(text, styleAttributes = {}) {\n",
              "  const element = document.createElement('span');\n",
              "  element.textContent = text;\n",
              "  for (const key of Object.keys(styleAttributes)) {\n",
              "    element.style[key] = styleAttributes[key];\n",
              "  }\n",
              "  return element;\n",
              "}\n",
              "\n",
              "// Max number of bytes which will be uploaded at a time.\n",
              "const MAX_PAYLOAD_SIZE = 100 * 1024;\n",
              "\n",
              "function _uploadFiles(inputId, outputId) {\n",
              "  const steps = uploadFilesStep(inputId, outputId);\n",
              "  const outputElement = document.getElementById(outputId);\n",
              "  // Cache steps on the outputElement to make it available for the next call\n",
              "  // to uploadFilesContinue from Python.\n",
              "  outputElement.steps = steps;\n",
              "\n",
              "  return _uploadFilesContinue(outputId);\n",
              "}\n",
              "\n",
              "// This is roughly an async generator (not supported in the browser yet),\n",
              "// where there are multiple asynchronous steps and the Python side is going\n",
              "// to poll for completion of each step.\n",
              "// This uses a Promise to block the python side on completion of each step,\n",
              "// then passes the result of the previous step as the input to the next step.\n",
              "function _uploadFilesContinue(outputId) {\n",
              "  const outputElement = document.getElementById(outputId);\n",
              "  const steps = outputElement.steps;\n",
              "\n",
              "  const next = steps.next(outputElement.lastPromiseValue);\n",
              "  return Promise.resolve(next.value.promise).then((value) => {\n",
              "    // Cache the last promise value to make it available to the next\n",
              "    // step of the generator.\n",
              "    outputElement.lastPromiseValue = value;\n",
              "    return next.value.response;\n",
              "  });\n",
              "}\n",
              "\n",
              "/**\n",
              " * Generator function which is called between each async step of the upload\n",
              " * process.\n",
              " * @param {string} inputId Element ID of the input file picker element.\n",
              " * @param {string} outputId Element ID of the output display.\n",
              " * @return {!Iterable<!Object>} Iterable of next steps.\n",
              " */\n",
              "function* uploadFilesStep(inputId, outputId) {\n",
              "  const inputElement = document.getElementById(inputId);\n",
              "  inputElement.disabled = false;\n",
              "\n",
              "  const outputElement = document.getElementById(outputId);\n",
              "  outputElement.innerHTML = '';\n",
              "\n",
              "  const pickedPromise = new Promise((resolve) => {\n",
              "    inputElement.addEventListener('change', (e) => {\n",
              "      resolve(e.target.files);\n",
              "    });\n",
              "  });\n",
              "\n",
              "  const cancel = document.createElement('button');\n",
              "  inputElement.parentElement.appendChild(cancel);\n",
              "  cancel.textContent = 'Cancel upload';\n",
              "  const cancelPromise = new Promise((resolve) => {\n",
              "    cancel.onclick = () => {\n",
              "      resolve(null);\n",
              "    };\n",
              "  });\n",
              "\n",
              "  // Wait for the user to pick the files.\n",
              "  const files = yield {\n",
              "    promise: Promise.race([pickedPromise, cancelPromise]),\n",
              "    response: {\n",
              "      action: 'starting',\n",
              "    }\n",
              "  };\n",
              "\n",
              "  cancel.remove();\n",
              "\n",
              "  // Disable the input element since further picks are not allowed.\n",
              "  inputElement.disabled = true;\n",
              "\n",
              "  if (!files) {\n",
              "    return {\n",
              "      response: {\n",
              "        action: 'complete',\n",
              "      }\n",
              "    };\n",
              "  }\n",
              "\n",
              "  for (const file of files) {\n",
              "    const li = document.createElement('li');\n",
              "    li.append(span(file.name, {fontWeight: 'bold'}));\n",
              "    li.append(span(\n",
              "        `(${file.type || 'n/a'}) - ${file.size} bytes, ` +\n",
              "        `last modified: ${\n",
              "            file.lastModifiedDate ? file.lastModifiedDate.toLocaleDateString() :\n",
              "                                    'n/a'} - `));\n",
              "    const percent = span('0% done');\n",
              "    li.appendChild(percent);\n",
              "\n",
              "    outputElement.appendChild(li);\n",
              "\n",
              "    const fileDataPromise = new Promise((resolve) => {\n",
              "      const reader = new FileReader();\n",
              "      reader.onload = (e) => {\n",
              "        resolve(e.target.result);\n",
              "      };\n",
              "      reader.readAsArrayBuffer(file);\n",
              "    });\n",
              "    // Wait for the data to be ready.\n",
              "    let fileData = yield {\n",
              "      promise: fileDataPromise,\n",
              "      response: {\n",
              "        action: 'continue',\n",
              "      }\n",
              "    };\n",
              "\n",
              "    // Use a chunked sending to avoid message size limits. See b/62115660.\n",
              "    let position = 0;\n",
              "    do {\n",
              "      const length = Math.min(fileData.byteLength - position, MAX_PAYLOAD_SIZE);\n",
              "      const chunk = new Uint8Array(fileData, position, length);\n",
              "      position += length;\n",
              "\n",
              "      const base64 = btoa(String.fromCharCode.apply(null, chunk));\n",
              "      yield {\n",
              "        response: {\n",
              "          action: 'append',\n",
              "          file: file.name,\n",
              "          data: base64,\n",
              "        },\n",
              "      };\n",
              "\n",
              "      let percentDone = fileData.byteLength === 0 ?\n",
              "          100 :\n",
              "          Math.round((position / fileData.byteLength) * 100);\n",
              "      percent.textContent = `${percentDone}% done`;\n",
              "\n",
              "    } while (position < fileData.byteLength);\n",
              "  }\n",
              "\n",
              "  // All done.\n",
              "  yield {\n",
              "    response: {\n",
              "      action: 'complete',\n",
              "    }\n",
              "  };\n",
              "}\n",
              "\n",
              "scope.google = scope.google || {};\n",
              "scope.google.colab = scope.google.colab || {};\n",
              "scope.google.colab._files = {\n",
              "  _uploadFiles,\n",
              "  _uploadFilesContinue,\n",
              "};\n",
              "})(self);\n",
              "</script> "
            ]
          },
          "metadata": {}
        },
        {
          "output_type": "stream",
          "name": "stdout",
          "text": [
            "Saving kaggle.json to kaggle.json\n"
          ]
        },
        {
          "output_type": "execute_result",
          "data": {
            "text/plain": [
              "{'kaggle.json': b'{\"username\":\"ansitabehera\",\"key\":\"eb8e57d47a18c3801e5d07dcb050c9c4\"}\\r\\n\\r\\n'}"
            ]
          },
          "metadata": {},
          "execution_count": 1
        }
      ]
    },
    {
      "cell_type": "code",
      "source": [
        "# Downloading the PlantVillage dataset from Kaggle and unzipping it\n",
        "%%capture\n",
        "!mkdir ~/.kaggle\n",
        "!cp kaggle.json ~/.kaggle/\n",
        "!chmod 600 ~/.kaggle/kaggle.json\n",
        "!kaggle datasets download -d vipoooool/new-plant-diseases-dataset\n",
        "!unzip /content/new-plant-diseases-dataset.zip"
      ],
      "metadata": {
        "id": "C7erw-t0di8k"
      },
      "execution_count": 2,
      "outputs": []
    },
    {
      "cell_type": "code",
      "source": [
        "import numpy as np\n",
        "import pandas as pd\n",
        "import matplotlib.pyplot as plt\n",
        "import os\n",
        "\n",
        "import keras\n",
        "from keras.utils import img_to_array, load_img\n",
        "from keras.preprocessing.image import ImageDataGenerator\n",
        "from keras.applications.vgg19 import VGG19, preprocess_input, decode_predictions"
      ],
      "metadata": {
        "id": "_r5x9TztJUX9"
      },
      "execution_count": null,
      "outputs": []
    },
    {
      "cell_type": "markdown",
      "source": [
        "# **Exploratory Data Analysis**"
      ],
      "metadata": {
        "id": "TqXrToNUWvH1"
      }
    },
    {
      "cell_type": "code",
      "source": [
        "#Checking the number of directories\n",
        "len(os.listdir(\"/content/New Plant Diseases Dataset(Augmented)/New Plant Diseases Dataset(Augmented)/train\"))"
      ],
      "metadata": {
        "colab": {
          "base_uri": "https://localhost:8080/"
        },
        "id": "mL6BcubVJqag",
        "outputId": "e00610ea-bc29-4b10-c1dc-3b4ff2cec940"
      },
      "execution_count": null,
      "outputs": [
        {
          "output_type": "execute_result",
          "data": {
            "text/plain": [
              "38"
            ]
          },
          "metadata": {},
          "execution_count": 9
        }
      ]
    },
    {
      "cell_type": "code",
      "source": [
        "#Modifying the training data for model's better learning\n",
        "\n",
        "train_datagen = ImageDataGenerator(zoom_range= 0.5, shear_range= 0.3, horizontal_flip= True, preprocessing_function= preprocess_input)\n",
        "val_datagen = ImageDataGenerator(preprocessing_function= preprocess_input)"
      ],
      "metadata": {
        "id": "yfvIjGepLbAb"
      },
      "execution_count": null,
      "outputs": []
    },
    {
      "cell_type": "code",
      "source": [
        "train = train_datagen.flow_from_directory(directory=\"/content/New Plant Diseases Dataset(Augmented)/New Plant Diseases Dataset(Augmented)/train\", target_size = (256, 256), batch_size = 32)\n",
        "val = val_datagen.flow_from_directory(directory=\"/content/New Plant Diseases Dataset(Augmented)/New Plant Diseases Dataset(Augmented)/valid\", target_size = (256, 256), batch_size = 32)"
      ],
      "metadata": {
        "colab": {
          "base_uri": "https://localhost:8080/"
        },
        "id": "FvOekmhsMBKL",
        "outputId": "7c8ccdf5-5c99-46e2-c34a-4dc4fa1a9e19"
      },
      "execution_count": null,
      "outputs": [
        {
          "output_type": "stream",
          "name": "stdout",
          "text": [
            "Found 70295 images belonging to 38 classes.\n",
            "Found 17572 images belonging to 38 classes.\n"
          ]
        }
      ]
    },
    {
      "cell_type": "code",
      "source": [
        "t_img, label = train.next()"
      ],
      "metadata": {
        "id": "TDi8VxC8S-vG"
      },
      "execution_count": null,
      "outputs": []
    },
    {
      "cell_type": "code",
      "source": [
        "#Checking for dimensions of any image\n",
        "t_img.shape"
      ],
      "metadata": {
        "colab": {
          "base_uri": "https://localhost:8080/"
        },
        "id": "unbXWraVTKkm",
        "outputId": "aeb2c134-d483-4a51-c0d8-ca669e02c514"
      },
      "execution_count": null,
      "outputs": [
        {
          "output_type": "execute_result",
          "data": {
            "text/plain": [
              "(32, 256, 256, 3)"
            ]
          },
          "metadata": {},
          "execution_count": 13
        }
      ]
    },
    {
      "cell_type": "code",
      "source": [
        "def plotImage(img_arr, label):\n",
        "\n",
        "  for im, l in zip(img_arr, label):\n",
        "    plt.figure(figsize= (5,5))\n",
        "    plt.imshow(im)\n",
        "    plt.show()"
      ],
      "metadata": {
        "id": "xmM9z6zHTM7j"
      },
      "execution_count": null,
      "outputs": []
    },
    {
      "cell_type": "code",
      "source": [
        "#Checking some images\n",
        "plotImage(t_img[:3], label[:3])"
      ],
      "metadata": {
        "colab": {
          "base_uri": "https://localhost:8080/",
          "height": 987
        },
        "id": "E_LhVmJGTuMS",
        "outputId": "7c732f93-d88f-4b97-de1a-3a81ed8a66bc"
      },
      "execution_count": null,
      "outputs": [
        {
          "output_type": "stream",
          "name": "stderr",
          "text": [
            "WARNING:matplotlib.image:Clipping input data to the valid range for imshow with RGB data ([0..1] for floats or [0..255] for integers).\n"
          ]
        },
        {
          "output_type": "display_data",
          "data": {
            "text/plain": [
              "<Figure size 360x360 with 1 Axes>"
            ],
            "image/png": "[encoded data removed]"
          },
          "metadata": {
            "needs_background": "light"
          }
        },
        {
          "output_type": "stream",
          "name": "stderr",
          "text": [
            "WARNING:matplotlib.image:Clipping input data to the valid range for imshow with RGB data ([0..1] for floats or [0..255] for integers).\n"
          ]
        },
        {
          "output_type": "display_data",
          "data": {
            "text/plain": [
              "<Figure size 360x360 with 1 Axes>"
            ],
            "image/png": "[encoded data removed]"
          },
          "metadata": {
            "needs_background": "light"
          }
        },
        {
          "output_type": "stream",
          "name": "stderr",
          "text": [
            "WARNING:matplotlib.image:Clipping input data to the valid range for imshow with RGB data ([0..1] for floats or [0..255] for integers).\n"
          ]
        },
        {
          "output_type": "display_data",
          "data": {
            "text/plain": [
              "<Figure size 360x360 with 1 Axes>"
            ],
            "image/png": "[encoded data removed]"
          },
          "metadata": {
            "needs_background": "light"
          }
        }
      ]
    },
    {
      "cell_type": "markdown",
      "source": [
        "# **Building the model**"
      ],
      "metadata": {
        "id": "yJKHJ-u2U4cZ"
      }
    },
    {
      "cell_type": "code",
      "source": [
        "from keras.layers import Dense, Flatten\n",
        "from keras.models import Model\n",
        "from keras.applications.vgg19 import VGG19\n",
        "import keras"
      ],
      "metadata": {
        "id": "xbsf3ZLYUOAX"
      },
      "execution_count": null,
      "outputs": []
    },
    {
      "cell_type": "code",
      "source": [
        "#Importing the VGG-19 model\n",
        "base_model = VGG19(input_shape=(256, 256, 3), include_top=False)"
      ],
      "metadata": {
        "id": "8s3YVIW3VUyL",
        "colab": {
          "base_uri": "https://localhost:8080/"
        },
        "outputId": "fdcc2ca9-c293-4573-e847-98fbec41f0cf"
      },
      "execution_count": null,
      "outputs": [
        {
          "output_type": "stream",
          "name": "stdout",
          "text": [
            "Downloading data from https://storage.googleapis.com/tensorflow/keras-applications/vgg19/vgg19_weights_tf_dim_ordering_tf_kernels_notop.h5\n",
            "80134624/80134624 [==============================] - 0s 0us/step\n"
          ]
        }
      ]
    },
    {
      "cell_type": "code",
      "source": [
        "#Freezing the previously trained model's layers\n",
        "for label in base_model.layers:\n",
        "  label.trainable = False"
      ],
      "metadata": {
        "id": "Sk7Iexu4VjWB"
      },
      "execution_count": null,
      "outputs": []
    },
    {
      "cell_type": "code",
      "source": [
        "base_model.summary()"
      ],
      "metadata": {
        "colab": {
          "base_uri": "https://localhost:8080/"
        },
        "id": "dHGReOAIW24K",
        "outputId": "01da5394-9aa2-4309-ad64-ca18764d7d39"
      },
      "execution_count": null,
      "outputs": [
        {
          "output_type": "stream",
          "name": "stdout",
          "text": [
            "Model: \"vgg19\"\n",
            "_________________________________________________________________\n",
            " Layer (type)                Output Shape              Param #   \n",
            "=================================================================\n",
            " input_1 (InputLayer)        [(None, 256, 256, 3)]     0         \n",
            "                                                                 \n",
            " block1_conv1 (Conv2D)       (None, 256, 256, 64)      1792      \n",
            "                                                                 \n",
            " block1_conv2 (Conv2D)       (None, 256, 256, 64)      36928     \n",
            "                                                                 \n",
            " block1_pool (MaxPooling2D)  (None, 128, 128, 64)      0         \n",
            "                                                                 \n",
            " block2_conv1 (Conv2D)       (None, 128, 128, 128)     73856     \n",
            "                                                                 \n",
            " block2_conv2 (Conv2D)       (None, 128, 128, 128)     147584    \n",
            "                                                                 \n",
            " block2_pool (MaxPooling2D)  (None, 64, 64, 128)       0         \n",
            "                                                                 \n",
            " block3_conv1 (Conv2D)       (None, 64, 64, 256)       295168    \n",
            "                                                                 \n",
            " block3_conv2 (Conv2D)       (None, 64, 64, 256)       590080    \n",
            "                                                                 \n",
            " block3_conv3 (Conv2D)       (None, 64, 64, 256)       590080    \n",
            "                                                                 \n",
            " block3_conv4 (Conv2D)       (None, 64, 64, 256)       590080    \n",
            "                                                                 \n",
            " block3_pool (MaxPooling2D)  (None, 32, 32, 256)       0         \n",
            "                                                                 \n",
            " block4_conv1 (Conv2D)       (None, 32, 32, 512)       1180160   \n",
            "                                                                 \n",
            " block4_conv2 (Conv2D)       (None, 32, 32, 512)       2359808   \n",
            "                                                                 \n",
            " block4_conv3 (Conv2D)       (None, 32, 32, 512)       2359808   \n",
            "                                                                 \n",
            " block4_conv4 (Conv2D)       (None, 32, 32, 512)       2359808   \n",
            "                                                                 \n",
            " block4_pool (MaxPooling2D)  (None, 16, 16, 512)       0         \n",
            "                                                                 \n",
            " block5_conv1 (Conv2D)       (None, 16, 16, 512)       2359808   \n",
            "                                                                 \n",
            " block5_conv2 (Conv2D)       (None, 16, 16, 512)       2359808   \n",
            "                                                                 \n",
            " block5_conv3 (Conv2D)       (None, 16, 16, 512)       2359808   \n",
            "                                                                 \n",
            " block5_conv4 (Conv2D)       (None, 16, 16, 512)       2359808   \n",
            "                                                                 \n",
            " block5_pool (MaxPooling2D)  (None, 8, 8, 512)         0         \n",
            "                                                                 \n",
            "=================================================================\n",
            "Total params: 20,024,384\n",
            "Trainable params: 0\n",
            "Non-trainable params: 20,024,384\n",
            "_________________________________________________________________\n"
          ]
        }
      ]
    },
    {
      "cell_type": "code",
      "source": [
        "#Adding trainable layers on top of frozen layers:\n",
        "#Adding a flatten layer to the base model to convert the pooled feature map into a single column\n",
        "x = Flatten()(base_model.output)\n",
        "\n",
        "#Dense adds a fully connected layer to the neural  network\n",
        "x = Dense(units = 38, activation='softmax')(x)"
      ],
      "metadata": {
        "id": "imPUB3XDXHLp"
      },
      "execution_count": null,
      "outputs": []
    },
    {
      "cell_type": "code",
      "source": [
        "#Creating the model\n",
        "model = Model(base_model.input, x)"
      ],
      "metadata": {
        "id": "JZNy-LR7YPiq"
      },
      "execution_count": null,
      "outputs": []
    },
    {
      "cell_type": "code",
      "source": [
        "model.summary()"
      ],
      "metadata": {
        "colab": {
          "base_uri": "https://localhost:8080/"
        },
        "id": "iruq18RsXhcE",
        "outputId": "3c4af161-051e-4687-8656-9e61a0909c8f"
      },
      "execution_count": null,
      "outputs": [
        {
          "output_type": "stream",
          "name": "stdout",
          "text": [
            "Model: \"model\"\n",
            "_________________________________________________________________\n",
            " Layer (type)                Output Shape              Param #   \n",
            "=================================================================\n",
            " input_1 (InputLayer)        [(None, 256, 256, 3)]     0         \n",
            "                                                                 \n",
            " block1_conv1 (Conv2D)       (None, 256, 256, 64)      1792      \n",
            "                                                                 \n",
            " block1_conv2 (Conv2D)       (None, 256, 256, 64)      36928     \n",
            "                                                                 \n",
            " block1_pool (MaxPooling2D)  (None, 128, 128, 64)      0         \n",
            "                                                                 \n",
            " block2_conv1 (Conv2D)       (None, 128, 128, 128)     73856     \n",
            "                                                                 \n",
            " block2_conv2 (Conv2D)       (None, 128, 128, 128)     147584    \n",
            "                                                                 \n",
            " block2_pool (MaxPooling2D)  (None, 64, 64, 128)       0         \n",
            "                                                                 \n",
            " block3_conv1 (Conv2D)       (None, 64, 64, 256)       295168    \n",
            "                                                                 \n",
            " block3_conv2 (Conv2D)       (None, 64, 64, 256)       590080    \n",
            "                                                                 \n",
            " block3_conv3 (Conv2D)       (None, 64, 64, 256)       590080    \n",
            "                                                                 \n",
            " block3_conv4 (Conv2D)       (None, 64, 64, 256)       590080    \n",
            "                                                                 \n",
            " block3_pool (MaxPooling2D)  (None, 32, 32, 256)       0         \n",
            "                                                                 \n",
            " block4_conv1 (Conv2D)       (None, 32, 32, 512)       1180160   \n",
            "                                                                 \n",
            " block4_conv2 (Conv2D)       (None, 32, 32, 512)       2359808   \n",
            "                                                                 \n",
            " block4_conv3 (Conv2D)       (None, 32, 32, 512)       2359808   \n",
            "                                                                 \n",
            " block4_conv4 (Conv2D)       (None, 32, 32, 512)       2359808   \n",
            "                                                                 \n",
            " block4_pool (MaxPooling2D)  (None, 16, 16, 512)       0         \n",
            "                                                                 \n",
            " block5_conv1 (Conv2D)       (None, 16, 16, 512)       2359808   \n",
            "                                                                 \n",
            " block5_conv2 (Conv2D)       (None, 16, 16, 512)       2359808   \n",
            "                                                                 \n",
            " block5_conv3 (Conv2D)       (None, 16, 16, 512)       2359808   \n",
            "                                                                 \n",
            " block5_conv4 (Conv2D)       (None, 16, 16, 512)       2359808   \n",
            "                                                                 \n",
            " block5_pool (MaxPooling2D)  (None, 8, 8, 512)         0         \n",
            "                                                                 \n",
            " flatten (Flatten)           (None, 32768)             0         \n",
            "                                                                 \n",
            " dense (Dense)               (None, 38)                1245222   \n",
            "                                                                 \n",
            "=================================================================\n",
            "Total params: 21,269,606\n",
            "Trainable params: 1,245,222\n",
            "Non-trainable params: 20,024,384\n",
            "_________________________________________________________________\n"
          ]
        }
      ]
    },
    {
      "cell_type": "code",
      "source": [
        "#Using adam optimizer since it gives best results \n",
        "#Categorial cross entropy coz our model outputs probabilities\n",
        "\n",
        "model.compile(optimizer='adam', loss = keras.losses.categorical_crossentropy, metrics=['accuracy'])"
      ],
      "metadata": {
        "id": "FCQ2Tj1bZPNb"
      },
      "execution_count": null,
      "outputs": []
    },
    {
      "cell_type": "markdown",
      "source": [
        "# **Training the Model**"
      ],
      "metadata": {
        "id": "mw0kxNkxeY68"
      }
    },
    {
      "cell_type": "code",
      "source": [
        "from keras.callbacks import ModelCheckpoint, EarlyStopping\n",
        "\n",
        "#Early stopping\n",
        "es = EarlyStopping(monitor='val_accuracy', min_delta=0.01, patience= 3, verbose= 1)\n",
        "\n",
        "#Model check point\n",
        "mc = ModelCheckpoint(filepath=\"best_model.h5\",\n",
        "                     monitor= 'val_accuracy',\n",
        "                     min_delta= 0.01,\n",
        "                     patience= 3,\n",
        "                     verbose= 1,\n",
        "                     save_best_only= True)\n",
        "\n",
        "cb = [es, mc]"
      ],
      "metadata": {
        "id": "WIG8KcRnX8lW"
      },
      "execution_count": null,
      "outputs": []
    },
    {
      "cell_type": "code",
      "source": [
        "#Training the model on the newly added layers\n",
        "#Using fit_generator coz data augmentation has been applied\n",
        "\n",
        "his = model.fit_generator(train,\n",
        "                          epochs=10,\n",
        "                          steps_per_epoch = 64,\n",
        "                          verbose = 1,\n",
        "                          callbacks=cb,\n",
        "                          validation_data = val,\n",
        "                          validation_steps= 16)"
      ],
      "metadata": {
        "colab": {
          "base_uri": "https://localhost:8080/"
        },
        "id": "rquSDj4XY9us",
        "outputId": "57ecbc2c-32b7-4ac6-8b9b-a092a93b4f4f"
      },
      "execution_count": null,
      "outputs": [
        {
          "output_type": "stream",
          "name": "stderr",
          "text": [
            "<ipython-input-25-31f0bc57ccd7>:4: UserWarning: `Model.fit_generator` is deprecated and will be removed in a future version. Please use `Model.fit`, which supports generators.\n",
            "  his = model.fit_generator(train,\n"
          ]
        },
        {
          "output_type": "stream",
          "name": "stdout",
          "text": [
            "Epoch 1/10\n",
            "64/64 [==============================] - ETA: 0s - loss: 15.7054 - accuracy: 0.4146\n",
            "Epoch 1: val_accuracy improved from -inf to 0.67969, saving model to best_model.h5\n",
            "64/64 [==============================] - 51s 612ms/step - loss: 15.7054 - accuracy: 0.4146 - val_loss: 7.0177 - val_accuracy: 0.6797\n",
            "Epoch 2/10\n",
            "64/64 [==============================] - ETA: 0s - loss: 8.0482 - accuracy: 0.6655\n",
            "Epoch 2: val_accuracy improved from 0.67969 to 0.76172, saving model to best_model.h5\n",
            "64/64 [==============================] - 39s 612ms/step - loss: 8.0482 - accuracy: 0.6655 - val_loss: 6.6506 - val_accuracy: 0.7617\n",
            "Epoch 3/10\n",
            "64/64 [==============================] - ETA: 0s - loss: 8.1655 - accuracy: 0.7119\n",
            "Epoch 3: val_accuracy improved from 0.76172 to 0.79297, saving model to best_model.h5\n",
            "64/64 [==============================] - 40s 622ms/step - loss: 8.1655 - accuracy: 0.7119 - val_loss: 6.3605 - val_accuracy: 0.7930\n",
            "Epoch 4/10\n",
            "64/64 [==============================] - ETA: 0s - loss: 7.3730 - accuracy: 0.7437\n",
            "Epoch 4: val_accuracy improved from 0.79297 to 0.85547, saving model to best_model.h5\n",
            "64/64 [==============================] - 40s 623ms/step - loss: 7.3730 - accuracy: 0.7437 - val_loss: 4.0546 - val_accuracy: 0.8555\n",
            "Epoch 5/10\n",
            "64/64 [==============================] - ETA: 0s - loss: 7.5404 - accuracy: 0.7632\n",
            "Epoch 5: val_accuracy did not improve from 0.85547\n",
            "64/64 [==============================] - 39s 609ms/step - loss: 7.5404 - accuracy: 0.7632 - val_loss: 8.0187 - val_accuracy: 0.7988\n",
            "Epoch 6/10\n",
            "64/64 [==============================] - ETA: 0s - loss: 8.7420 - accuracy: 0.7505\n",
            "Epoch 6: val_accuracy did not improve from 0.85547\n",
            "64/64 [==============================] - 39s 604ms/step - loss: 8.7420 - accuracy: 0.7505 - val_loss: 5.3900 - val_accuracy: 0.8340\n",
            "Epoch 7/10\n",
            "64/64 [==============================] - ETA: 0s - loss: 7.7213 - accuracy: 0.7876\n",
            "Epoch 7: val_accuracy did not improve from 0.85547\n",
            "64/64 [==============================] - 39s 605ms/step - loss: 7.7213 - accuracy: 0.7876 - val_loss: 5.4575 - val_accuracy: 0.8516\n",
            "Epoch 7: early stopping\n"
          ]
        }
      ]
    },
    {
      "cell_type": "markdown",
      "source": [
        "### **The VGG-19 model achieved a validation accuracy of 85.54%.**\n"
      ],
      "metadata": {
        "id": "U2NY880mVv67"
      }
    },
    {
      "cell_type": "markdown",
      "source": [
        "## **Plotting the results**"
      ],
      "metadata": {
        "id": "n163Q6AMeiR9"
      }
    },
    {
      "cell_type": "code",
      "source": [
        "#These metrics will be used to create plots\n",
        "h = his.history\n",
        "h.keys()"
      ],
      "metadata": {
        "colab": {
          "base_uri": "https://localhost:8080/"
        },
        "id": "qoU3JPEWeeT6",
        "outputId": "15c0cd56-9e36-4a7b-8fe8-3a88b9436fdc"
      },
      "execution_count": null,
      "outputs": [
        {
          "output_type": "execute_result",
          "data": {
            "text/plain": [
              "dict_keys(['loss', 'accuracy', 'val_loss', 'val_accuracy'])"
            ]
          },
          "metadata": {},
          "execution_count": 26
        }
      ]
    },
    {
      "cell_type": "code",
      "source": [
        "%matplotlib inline\n",
        "plt.close('all')"
      ],
      "metadata": {
        "id": "iyXP4iulkDjM"
      },
      "execution_count": null,
      "outputs": []
    },
    {
      "cell_type": "markdown",
      "source": [
        "## **Plotting the results**"
      ],
      "metadata": {
        "id": "vgw-ifUvUGaJ"
      }
    },
    {
      "cell_type": "code",
      "source": [
        "plt.plot(h['accuracy'])\n",
        "plt.plot(h['val_accuracy'], c = \"red\")\n",
        "plt.title(\"acc vs v-acc\")\n",
        "plt.show()"
      ],
      "metadata": {
        "colab": {
          "base_uri": "https://localhost:8080/",
          "height": 281
        },
        "id": "Nxu93yypf2FH",
        "outputId": "61f5bd96-dee6-4c38-870a-6cd7efbe62b9"
      },
      "execution_count": null,
      "outputs": [
        {
          "output_type": "display_data",
          "data": {
            "text/plain": [
              "<Figure size 432x288 with 1 Axes>"
            ],
            "image/png": "[encoded data removed]"
          },
          "metadata": {
            "needs_background": "light"
          }
        }
      ]
    },
    {
      "cell_type": "code",
      "source": [
        "plt.plot(h['loss'])\n",
        "plt.plot(h['val_loss'], c = \"red\")\n",
        "plt.title(\"loss vs v-loss\")\n",
        "plt.show()"
      ],
      "metadata": {
        "colab": {
          "base_uri": "https://localhost:8080/",
          "height": 281
        },
        "id": "hNtERxrYjPko",
        "outputId": "9852f09b-230f-4f7f-e539-20abbf879350"
      },
      "execution_count": null,
      "outputs": [
        {
          "output_type": "display_data",
          "data": {
            "text/plain": [
              "<Figure size 432x288 with 1 Axes>"
            ],
            "image/png": "[encoded data removed]"
          },
          "metadata": {
            "needs_background": "light"
          }
        }
      ]
    },
    {
      "cell_type": "code",
      "source": [
        "#Loading the best model\n",
        "\n",
        "from keras.models import load_model\n",
        "Model = load_model(\"/content/best_model.h5\")"
      ],
      "metadata": {
        "id": "Sgbm9flJlnVB"
      },
      "execution_count": null,
      "outputs": []
    },
    {
      "cell_type": "code",
      "source": [
        "#Checking the accuracy\n",
        "acc = Model.evaluate(val)[1]\n",
        "\n",
        "print(f\"The accuracy of your model is: {acc*100}%\")"
      ],
      "metadata": {
        "colab": {
          "base_uri": "https://localhost:8080/"
        },
        "id": "8BuFX01FmRfM",
        "outputId": "5c0f9de1-eb6b-43a7-bec8-2350d1d80dca"
      },
      "execution_count": null,
      "outputs": [
        {
          "output_type": "stream",
          "name": "stdout",
          "text": [
            "550/550 [==============================] - 105s 191ms/step - loss: 4.3223 - accuracy: 0.8509\n",
            "The accuracy of your model is: 85.08991599082947%\n"
          ]
        }
      ]
    },
    {
      "cell_type": "markdown",
      "source": [
        "### **This Crop Disease Detection Model using VGG-19 has an accuracy of 85.1%.**"
      ],
      "metadata": {
        "id": "06dmUhMzeEQK"
      }
    },
    {
      "cell_type": "markdown",
      "source": [
        "# **Testing**"
      ],
      "metadata": {
        "id": "htV6Z5hweO9d"
      }
    },
    {
      "cell_type": "code",
      "source": [
        "#Creating a map of images and their related diseases\n",
        "ref = dict( zip(list(train.class_indices.values()), list(train.class_indices.keys())))"
      ],
      "metadata": {
        "id": "MCH8RLNekS99"
      },
      "execution_count": null,
      "outputs": []
    },
    {
      "cell_type": "code",
      "source": [
        "def prediction(path):\n",
        "  img = load_img(path, target_size= (256, 256))\n",
        "  i = img_to_array(img)\n",
        "  im = preprocess_input(i)\n",
        "  img = np.expand_dims(im, axis = 0)\n",
        "\n",
        "  pred = np.argmax(model.predict(img))\n",
        "\n",
        "  print(f\"The image belongs to {ref[pred]}\")"
      ],
      "metadata": {
        "id": "YU4We1Yyh_UG"
      },
      "execution_count": null,
      "outputs": []
    },
    {
      "cell_type": "code",
      "source": [
        "#Checking prediction for a leaf\n",
        "path = \"/content/test/test/AppleCedarRust3.JPG\"\n",
        "prediction(path)"
      ],
      "metadata": {
        "colab": {
          "base_uri": "https://localhost:8080/"
        },
        "id": "MmAJbIMTkAWq",
        "outputId": "0a57f73c-5e7d-46aa-b346-0684e18701da"
      },
      "execution_count": null,
      "outputs": [
        {
          "output_type": "stream",
          "name": "stdout",
          "text": [
            "1/1 [==============================] - 1s 688ms/step\n",
            "The image belongs to Pepper,_bell___Bacterial_spot\n"
          ]
        }
      ]
    },
    {
      "cell_type": "code",
      "source": [
        "from torchvision.datasets import ImageFolder\n",
        "test_dir = \"/content/test\"\n",
        "test = ImageFolder(test_dir, transform=transforms.ToTensor())"
      ],
      "metadata": {
        "id": "Df6NMDjal4Gi"
      },
      "execution_count": null,
      "outputs": []
    },
    {
      "cell_type": "code",
      "source": [
        "test_images = sorted(os.listdir(test_dir + '/test')) # since images in test folder are in alphabetical order\n",
        "test_images"
      ],
      "metadata": {
        "colab": {
          "base_uri": "https://localhost:8080/"
        },
        "id": "rf4cfNd1nsJd",
        "outputId": "329c7ddf-5734-4996-cb0b-f616f34c0c23"
      },
      "execution_count": null,
      "outputs": [
        {
          "output_type": "execute_result",
          "data": {
            "text/plain": [
              "['AppleCedarRust1.JPG',\n",
              " 'AppleCedarRust2.JPG',\n",
              " 'AppleCedarRust3.JPG',\n",
              " 'AppleCedarRust4.JPG',\n",
              " 'AppleScab1.JPG',\n",
              " 'AppleScab2.JPG',\n",
              " 'AppleScab3.JPG',\n",
              " 'CornCommonRust1.JPG',\n",
              " 'CornCommonRust2.JPG',\n",
              " 'CornCommonRust3.JPG',\n",
              " 'PotatoEarlyBlight1.JPG',\n",
              " 'PotatoEarlyBlight2.JPG',\n",
              " 'PotatoEarlyBlight3.JPG',\n",
              " 'PotatoEarlyBlight4.JPG',\n",
              " 'PotatoEarlyBlight5.JPG',\n",
              " 'PotatoHealthy1.JPG',\n",
              " 'PotatoHealthy2.JPG',\n",
              " 'TomatoEarlyBlight1.JPG',\n",
              " 'TomatoEarlyBlight2.JPG',\n",
              " 'TomatoEarlyBlight3.JPG',\n",
              " 'TomatoEarlyBlight4.JPG',\n",
              " 'TomatoEarlyBlight5.JPG',\n",
              " 'TomatoEarlyBlight6.JPG',\n",
              " 'TomatoHealthy1.JPG',\n",
              " 'TomatoHealthy2.JPG',\n",
              " 'TomatoHealthy3.JPG',\n",
              " 'TomatoHealthy4.JPG',\n",
              " 'TomatoYellowCurlVirus1.JPG',\n",
              " 'TomatoYellowCurlVirus2.JPG',\n",
              " 'TomatoYellowCurlVirus3.JPG',\n",
              " 'TomatoYellowCurlVirus4.JPG',\n",
              " 'TomatoYellowCurlVirus5.JPG',\n",
              " 'TomatoYellowCurlVirus6.JPG']"
            ]
          },
          "metadata": {},
          "execution_count": 54
        }
      ]
    },
    {
      "cell_type": "code",
      "source": [
        "dir = \"/content/test/test\"\n",
        "\n",
        "#Checking predictions for the testing dataset\n",
        "cnt = 0\n",
        "for filename in test_images:\n",
        "  cnt = cnt + 1\n",
        "  print(filename)\n",
        "  f = dir+'/'+filename\n",
        "  prediction(f)\n",
        "  print()\n",
        "  print()\n",
        "  \n",
        "print(cnt)"
      ],
      "metadata": {
        "colab": {
          "base_uri": "https://localhost:8080/"
        },
        "id": "oKAs0H_apjO2",
        "outputId": "73c0b4e5-f92b-49fc-ad27-4828e818a1dc"
      },
      "execution_count": null,
      "outputs": [
        {
          "output_type": "stream",
          "name": "stdout",
          "text": [
            "AppleCedarRust1.JPG\n",
            "1/1 [==============================] - 0s 36ms/step\n",
            "The image belongs to Apple___Cedar_apple_rust\n",
            "\n",
            "\n",
            "AppleCedarRust2.JPG\n",
            "1/1 [==============================] - 0s 32ms/step\n",
            "The image belongs to Apple___Cedar_apple_rust\n",
            "\n",
            "\n",
            "AppleCedarRust3.JPG\n",
            "1/1 [==============================] - 0s 27ms/step\n",
            "The image belongs to Pepper,_bell___Bacterial_spot\n",
            "\n",
            "\n",
            "AppleCedarRust4.JPG\n",
            "1/1 [==============================] - 0s 20ms/step\n",
            "The image belongs to Tomato___Bacterial_spot\n",
            "\n",
            "\n",
            "AppleScab1.JPG\n",
            "1/1 [==============================] - 0s 26ms/step\n",
            "The image belongs to Apple___Apple_scab\n",
            "\n",
            "\n",
            "AppleScab2.JPG\n",
            "1/1 [==============================] - 0s 24ms/step\n",
            "The image belongs to Apple___Apple_scab\n",
            "\n",
            "\n",
            "AppleScab3.JPG\n",
            "1/1 [==============================] - 0s 21ms/step\n",
            "The image belongs to Apple___Apple_scab\n",
            "\n",
            "\n",
            "CornCommonRust1.JPG\n",
            "1/1 [==============================] - 0s 22ms/step\n",
            "The image belongs to Corn_(maize)___Common_rust_\n",
            "\n",
            "\n",
            "CornCommonRust2.JPG\n",
            "1/1 [==============================] - 0s 23ms/step\n",
            "The image belongs to Corn_(maize)___Common_rust_\n",
            "\n",
            "\n",
            "CornCommonRust3.JPG\n",
            "1/1 [==============================] - 0s 23ms/step\n",
            "The image belongs to Corn_(maize)___Common_rust_\n",
            "\n",
            "\n",
            "PotatoEarlyBlight1.JPG\n",
            "1/1 [==============================] - 0s 23ms/step\n",
            "The image belongs to Potato___Early_blight\n",
            "\n",
            "\n",
            "PotatoEarlyBlight2.JPG\n",
            "1/1 [==============================] - 0s 25ms/step\n",
            "The image belongs to Potato___Early_blight\n",
            "\n",
            "\n",
            "PotatoEarlyBlight3.JPG\n",
            "1/1 [==============================] - 0s 24ms/step\n",
            "The image belongs to Apple___healthy\n",
            "\n",
            "\n",
            "PotatoEarlyBlight4.JPG\n",
            "1/1 [==============================] - 0s 27ms/step\n",
            "The image belongs to Potato___Early_blight\n",
            "\n",
            "\n",
            "PotatoEarlyBlight5.JPG\n",
            "1/1 [==============================] - 0s 24ms/step\n",
            "The image belongs to Pepper,_bell___Bacterial_spot\n",
            "\n",
            "\n",
            "PotatoHealthy1.JPG\n",
            "1/1 [==============================] - 0s 24ms/step\n",
            "The image belongs to Potato___healthy\n",
            "\n",
            "\n",
            "PotatoHealthy2.JPG\n",
            "1/1 [==============================] - 0s 24ms/step\n",
            "The image belongs to Potato___healthy\n",
            "\n",
            "\n",
            "TomatoEarlyBlight1.JPG\n",
            "1/1 [==============================] - 0s 25ms/step\n",
            "The image belongs to Tomato___Late_blight\n",
            "\n",
            "\n",
            "TomatoEarlyBlight2.JPG\n",
            "1/1 [==============================] - 0s 21ms/step\n",
            "The image belongs to Pepper,_bell___Bacterial_spot\n",
            "\n",
            "\n",
            "TomatoEarlyBlight3.JPG\n",
            "1/1 [==============================] - 0s 29ms/step\n",
            "The image belongs to Tomato___Bacterial_spot\n",
            "\n",
            "\n",
            "TomatoEarlyBlight4.JPG\n",
            "1/1 [==============================] - 0s 20ms/step\n",
            "The image belongs to Tomato___Bacterial_spot\n",
            "\n",
            "\n",
            "TomatoEarlyBlight5.JPG\n",
            "1/1 [==============================] - 0s 24ms/step\n",
            "The image belongs to Tomato___Septoria_leaf_spot\n",
            "\n",
            "\n",
            "TomatoEarlyBlight6.JPG\n",
            "1/1 [==============================] - 0s 24ms/step\n",
            "The image belongs to Tomato___Tomato_Yellow_Leaf_Curl_Virus\n",
            "\n",
            "\n",
            "TomatoHealthy1.JPG\n",
            "1/1 [==============================] - 0s 25ms/step\n",
            "The image belongs to Tomato___healthy\n",
            "\n",
            "\n",
            "TomatoHealthy2.JPG\n",
            "1/1 [==============================] - 0s 24ms/step\n",
            "The image belongs to Tomato___Bacterial_spot\n",
            "\n",
            "\n",
            "TomatoHealthy3.JPG\n",
            "1/1 [==============================] - 0s 29ms/step\n",
            "The image belongs to Tomato___healthy\n",
            "\n",
            "\n",
            "TomatoHealthy4.JPG\n",
            "1/1 [==============================] - 0s 23ms/step\n",
            "The image belongs to Tomato___healthy\n",
            "\n",
            "\n",
            "TomatoYellowCurlVirus1.JPG\n",
            "1/1 [==============================] - 0s 21ms/step\n",
            "The image belongs to Tomato___Tomato_Yellow_Leaf_Curl_Virus\n",
            "\n",
            "\n",
            "TomatoYellowCurlVirus2.JPG\n",
            "1/1 [==============================] - 0s 23ms/step\n",
            "The image belongs to Tomato___Tomato_Yellow_Leaf_Curl_Virus\n",
            "\n",
            "\n",
            "TomatoYellowCurlVirus3.JPG\n",
            "1/1 [==============================] - 0s 33ms/step\n",
            "The image belongs to Tomato___Tomato_Yellow_Leaf_Curl_Virus\n",
            "\n",
            "\n",
            "TomatoYellowCurlVirus4.JPG\n",
            "1/1 [==============================] - 0s 21ms/step\n",
            "The image belongs to Tomato___Tomato_Yellow_Leaf_Curl_Virus\n",
            "\n",
            "\n",
            "TomatoYellowCurlVirus5.JPG\n",
            "1/1 [==============================] - 0s 21ms/step\n",
            "The image belongs to Tomato___Tomato_Yellow_Leaf_Curl_Virus\n",
            "\n",
            "\n",
            "TomatoYellowCurlVirus6.JPG\n",
            "1/1 [==============================] - 0s 23ms/step\n",
            "The image belongs to Tomato___Tomato_Yellow_Leaf_Curl_Virus\n",
            "\n",
            "\n",
            "33\n"
          ]
        }
      ]
    },
    {
      "cell_type": "markdown",
      "source": [
        "The model gives correct predictions for 22 out of 33 images present in the testing dataset."
      ],
      "metadata": {
        "id": "clN_ozu6tonF"
      }
    },
    {
      "cell_type": "code",
      "source": [
        "#References: https://keras.io/guides/transfer_learning/"
      ],
      "metadata": {
        "id": "QpwToxw8cAbu"
      },
      "execution_count": null,
      "outputs": []
    }
  ]
}