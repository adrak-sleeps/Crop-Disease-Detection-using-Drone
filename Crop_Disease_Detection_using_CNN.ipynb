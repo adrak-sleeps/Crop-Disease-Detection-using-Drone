{
  "nbformat": 4,
  "nbformat_minor": 0,
  "metadata": {
    "colab": {
      "provenance": [],
      "authorship_tag": "ABX9TyOiMlJMAWfpqWznTYenICYp",
      "include_colab_link": true
    },
    "kernelspec": {
      "name": "python3",
      "display_name": "Python 3"
    },
    "language_info": {
      "name": "python"
    },
    "accelerator": "GPU",
    "gpuClass": "standard"
  },
  "cells": [
    {
      "cell_type": "markdown",
      "metadata": {
        "id": "view-in-github",
        "colab_type": "text"
      },
      "source": [
        "<a href=\"https://colab.research.google.com/github/adrak-sleeps/Crop-Disease-Detection-using-Drone/blob/main/Crop_Disease_Detection_using_CNN.ipynb\" target=\"_parent\"><img src=\"https://colab.research.google.com/assets/colab-badge.svg\" alt=\"Open In Colab\"/></a>"
      ]
    },
    {
      "cell_type": "markdown",
      "source": [
        "# **Crop Disease Detection Using Naive CNN**"
      ],
      "metadata": {
        "id": "Q-ocOnaiOnZN"
      }
    },
    {
      "cell_type": "markdown",
      "source": [
        "## **Importing the PlantVillage Dataset from Kaggle**"
      ],
      "metadata": {
        "id": "is-_g23OLylj"
      }
    },
    {
      "cell_type": "code",
      "source": [
        "!pip install -q kaggle\n",
        "from google.colab import files\n",
        "files.upload()"
      ],
      "metadata": {
        "colab": {
          "base_uri": "https://localhost:8080/",
          "height": 90
        },
        "id": "jyqt01K4JzEm",
        "outputId": "bd2a1a63-c0d0-419e-864d-98f17beed400"
      },
      "execution_count": 2,
      "outputs": [
        {
          "output_type": "display_data",
          "data": {
            "text/plain": [
              "<IPython.core.display.HTML object>"
            ],
            "text/html": [
              "\n",
              "     <input type=\"file\" id=\"files-47bb1ad6-3811-4761-ac6e-cd8f948770f1\" name=\"files[]\" multiple disabled\n",
              "        style=\"border:none\" />\n",
              "     <output id=\"result-47bb1ad6-3811-4761-ac6e-cd8f948770f1\">\n",
              "      Upload widget is only available when the cell has been executed in the\n",
              "      current browser session. Please rerun this cell to enable.\n",
              "      </output>\n",
              "      <script>// Copyright 2017 Google LLC\n",
              "//\n",
              "// Licensed under the Apache License, Version 2.0 (the \"License\");\n",
              "// you may not use this file except in compliance with the License.\n",
              "// You may obtain a copy of the License at\n",
              "//\n",
              "//      http://www.apache.org/licenses/LICENSE-2.0\n",
              "//\n",
              "// Unless required by applicable law or agreed to in writing, software\n",
              "// distributed under the License is distributed on an \"AS IS\" BASIS,\n",
              "// WITHOUT WARRANTIES OR CONDITIONS OF ANY KIND, either express or implied.\n",
              "// See the License for the specific language governing permissions and\n",
              "// limitations under the License.\n",
              "\n",
              "/**\n",
              " * @fileoverview Helpers for google.colab Python module.\n",
              " */\n",
              "(function(scope) {\n",
              "function span(text, styleAttributes = {}) {\n",
              "  const element = document.createElement('span');\n",
              "  element.textContent = text;\n",
              "  for (const key of Object.keys(styleAttributes)) {\n",
              "    element.style[key] = styleAttributes[key];\n",
              "  }\n",
              "  return element;\n",
              "}\n",
              "\n",
              "// Max number of bytes which will be uploaded at a time.\n",
              "const MAX_PAYLOAD_SIZE = 100 * 1024;\n",
              "\n",
              "function _uploadFiles(inputId, outputId) {\n",
              "  const steps = uploadFilesStep(inputId, outputId);\n",
              "  const outputElement = document.getElementById(outputId);\n",
              "  // Cache steps on the outputElement to make it available for the next call\n",
              "  // to uploadFilesContinue from Python.\n",
              "  outputElement.steps = steps;\n",
              "\n",
              "  return _uploadFilesContinue(outputId);\n",
              "}\n",
              "\n",
              "// This is roughly an async generator (not supported in the browser yet),\n",
              "// where there are multiple asynchronous steps and the Python side is going\n",
              "// to poll for completion of each step.\n",
              "// This uses a Promise to block the python side on completion of each step,\n",
              "// then passes the result of the previous step as the input to the next step.\n",
              "function _uploadFilesContinue(outputId) {\n",
              "  const outputElement = document.getElementById(outputId);\n",
              "  const steps = outputElement.steps;\n",
              "\n",
              "  const next = steps.next(outputElement.lastPromiseValue);\n",
              "  return Promise.resolve(next.value.promise).then((value) => {\n",
              "    // Cache the last promise value to make it available to the next\n",
              "    // step of the generator.\n",
              "    outputElement.lastPromiseValue = value;\n",
              "    return next.value.response;\n",
              "  });\n",
              "}\n",
              "\n",
              "/**\n",
              " * Generator function which is called between each async step of the upload\n",
              " * process.\n",
              " * @param {string} inputId Element ID of the input file picker element.\n",
              " * @param {string} outputId Element ID of the output display.\n",
              " * @return {!Iterable<!Object>} Iterable of next steps.\n",
              " */\n",
              "function* uploadFilesStep(inputId, outputId) {\n",
              "  const inputElement = document.getElementById(inputId);\n",
              "  inputElement.disabled = false;\n",
              "\n",
              "  const outputElement = document.getElementById(outputId);\n",
              "  outputElement.innerHTML = '';\n",
              "\n",
              "  const pickedPromise = new Promise((resolve) => {\n",
              "    inputElement.addEventListener('change', (e) => {\n",
              "      resolve(e.target.files);\n",
              "    });\n",
              "  });\n",
              "\n",
              "  const cancel = document.createElement('button');\n",
              "  inputElement.parentElement.appendChild(cancel);\n",
              "  cancel.textContent = 'Cancel upload';\n",
              "  const cancelPromise = new Promise((resolve) => {\n",
              "    cancel.onclick = () => {\n",
              "      resolve(null);\n",
              "    };\n",
              "  });\n",
              "\n",
              "  // Wait for the user to pick the files.\n",
              "  const files = yield {\n",
              "    promise: Promise.race([pickedPromise, cancelPromise]),\n",
              "    response: {\n",
              "      action: 'starting',\n",
              "    }\n",
              "  };\n",
              "\n",
              "  cancel.remove();\n",
              "\n",
              "  // Disable the input element since further picks are not allowed.\n",
              "  inputElement.disabled = true;\n",
              "\n",
              "  if (!files) {\n",
              "    return {\n",
              "      response: {\n",
              "        action: 'complete',\n",
              "      }\n",
              "    };\n",
              "  }\n",
              "\n",
              "  for (const file of files) {\n",
              "    const li = document.createElement('li');\n",
              "    li.append(span(file.name, {fontWeight: 'bold'}));\n",
              "    li.append(span(\n",
              "        `(${file.type || 'n/a'}) - ${file.size} bytes, ` +\n",
              "        `last modified: ${\n",
              "            file.lastModifiedDate ? file.lastModifiedDate.toLocaleDateString() :\n",
              "                                    'n/a'} - `));\n",
              "    const percent = span('0% done');\n",
              "    li.appendChild(percent);\n",
              "\n",
              "    outputElement.appendChild(li);\n",
              "\n",
              "    const fileDataPromise = new Promise((resolve) => {\n",
              "      const reader = new FileReader();\n",
              "      reader.onload = (e) => {\n",
              "        resolve(e.target.result);\n",
              "      };\n",
              "      reader.readAsArrayBuffer(file);\n",
              "    });\n",
              "    // Wait for the data to be ready.\n",
              "    let fileData = yield {\n",
              "      promise: fileDataPromise,\n",
              "      response: {\n",
              "        action: 'continue',\n",
              "      }\n",
              "    };\n",
              "\n",
              "    // Use a chunked sending to avoid message size limits. See b/62115660.\n",
              "    let position = 0;\n",
              "    do {\n",
              "      const length = Math.min(fileData.byteLength - position, MAX_PAYLOAD_SIZE);\n",
              "      const chunk = new Uint8Array(fileData, position, length);\n",
              "      position += length;\n",
              "\n",
              "      const base64 = btoa(String.fromCharCode.apply(null, chunk));\n",
              "      yield {\n",
              "        response: {\n",
              "          action: 'append',\n",
              "          file: file.name,\n",
              "          data: base64,\n",
              "        },\n",
              "      };\n",
              "\n",
              "      let percentDone = fileData.byteLength === 0 ?\n",
              "          100 :\n",
              "          Math.round((position / fileData.byteLength) * 100);\n",
              "      percent.textContent = `${percentDone}% done`;\n",
              "\n",
              "    } while (position < fileData.byteLength);\n",
              "  }\n",
              "\n",
              "  // All done.\n",
              "  yield {\n",
              "    response: {\n",
              "      action: 'complete',\n",
              "    }\n",
              "  };\n",
              "}\n",
              "\n",
              "scope.google = scope.google || {};\n",
              "scope.google.colab = scope.google.colab || {};\n",
              "scope.google.colab._files = {\n",
              "  _uploadFiles,\n",
              "  _uploadFilesContinue,\n",
              "};\n",
              "})(self);\n",
              "</script> "
            ]
          },
          "metadata": {}
        },
        {
          "output_type": "stream",
          "name": "stdout",
          "text": [
            "Saving kaggle.json to kaggle.json\n"
          ]
        },
        {
          "output_type": "execute_result",
          "data": {
            "text/plain": [
              "{'kaggle.json': b'{\"username\":\"ansitabehera\",\"key\":\"eb8e57d47a18c3801e5d07dcb050c9c4\"}\\r\\n\\r\\n'}"
            ]
          },
          "metadata": {},
          "execution_count": 2
        }
      ]
    },
    {
      "cell_type": "code",
      "source": [
        "# Downloading the PlantVillage dataset from Kaggle and unzipping it\n",
        "%%capture\n",
        "!mkdir ~/.kaggle\n",
        "!cp kaggle.json ~/.kaggle/\n",
        "!chmod 600 ~/.kaggle/kaggle.json\n",
        "!kaggle datasets download -d vipoooool/new-plant-diseases-dataset\n",
        "!unzip /content/new-plant-diseases-dataset.zip"
      ],
      "metadata": {
        "id": "XyEtqaEMJzBh"
      },
      "execution_count": 3,
      "outputs": []
    },
    {
      "cell_type": "markdown",
      "source": [
        "## **Importing required libraries**"
      ],
      "metadata": {
        "id": "7FTpd-rJL69k"
      }
    },
    {
      "cell_type": "code",
      "execution_count": null,
      "metadata": {
        "id": "l0TRw9NKJnRA"
      },
      "outputs": [],
      "source": [
        "import tensorflow as tf\n",
        "import pandas as pd\n",
        "import numpy as np\n",
        "import matplotlib.pyplot as plt\n",
        "import os\n",
        "from tensorflow.keras.datasets import mnist\n",
        "from tensorflow.keras.models import Sequential\n",
        "from tensorflow.keras.layers import Conv2D\n",
        "from tensorflow.keras.layers import MaxPool2D\n",
        "from tensorflow.keras.layers import Flatten\n",
        "from tensorflow.keras.layers import Dropout\n",
        "from tensorflow.keras.layers import Dense\n",
        "from sklearn.model_selection import train_test_split\n",
        "from sklearn.preprocessing import LabelEncoder\n",
        "import cv2 as cv"
      ]
    },
    {
      "cell_type": "markdown",
      "source": [
        "## **Preparing the images**"
      ],
      "metadata": {
        "id": "aF6l4H7zL_Fx"
      }
    },
    {
      "cell_type": "code",
      "source": [
        "path = '/content/New Plant Diseases Dataset(Augmented)/New Plant Diseases Dataset(Augmented)'\n",
        "train = os.listdir(path+'/train')\n",
        "key_value = dict()\n",
        "for t in range(len(train)):\n",
        "    key_value[train[t]] = os.listdir(path+'/train/'+train[t])"
      ],
      "metadata": {
        "id": "BZXMbNHYKAHK"
      },
      "execution_count": null,
      "outputs": []
    },
    {
      "cell_type": "code",
      "source": [
        "df = []\n",
        "for i in range(len(train)):\n",
        "    for j in range(len(key_value[train[i]])):\n",
        "        df.append([path+'/train/'+train[i]+'/'+key_value[train[i]][j],train[i]])"
      ],
      "metadata": {
        "id": "WgkN58VALWoC"
      },
      "execution_count": null,
      "outputs": []
    },
    {
      "cell_type": "code",
      "source": [
        "test = pd.DataFrame(df,columns=['image','label'])\n",
        "test"
      ],
      "metadata": {
        "colab": {
          "base_uri": "https://localhost:8080/",
          "height": 423
        },
        "id": "qJzg4YHsLZZq",
        "outputId": "94779e04-9d16-4753-ada3-e7029b687437"
      },
      "execution_count": null,
      "outputs": [
        {
          "output_type": "execute_result",
          "data": {
            "text/plain": [
              "                                                   image                 label\n",
              "0      /content/New Plant Diseases Dataset(Augmented)...   Blueberry___healthy\n",
              "1      /content/New Plant Diseases Dataset(Augmented)...   Blueberry___healthy\n",
              "2      /content/New Plant Diseases Dataset(Augmented)...   Blueberry___healthy\n",
              "3      /content/New Plant Diseases Dataset(Augmented)...   Blueberry___healthy\n",
              "4      /content/New Plant Diseases Dataset(Augmented)...   Blueberry___healthy\n",
              "...                                                  ...                   ...\n",
              "70290  /content/New Plant Diseases Dataset(Augmented)...  Strawberry___healthy\n",
              "70291  /content/New Plant Diseases Dataset(Augmented)...  Strawberry___healthy\n",
              "70292  /content/New Plant Diseases Dataset(Augmented)...  Strawberry___healthy\n",
              "70293  /content/New Plant Diseases Dataset(Augmented)...  Strawberry___healthy\n",
              "70294  /content/New Plant Diseases Dataset(Augmented)...  Strawberry___healthy\n",
              "\n",
              "[70295 rows x 2 columns]"
            ],
            "text/html": [
              "\n",
              "  <div id=\"df-babd57f4-e598-4e44-88cd-d626cb41931a\">\n",
              "    <div class=\"colab-df-container\">\n",
              "      <div>\n",
              "<style scoped>\n",
              "    .dataframe tbody tr th:only-of-type {\n",
              "        vertical-align: middle;\n",
              "    }\n",
              "\n",
              "    .dataframe tbody tr th {\n",
              "        vertical-align: top;\n",
              "    }\n",
              "\n",
              "    .dataframe thead th {\n",
              "        text-align: right;\n",
              "    }\n",
              "</style>\n",
              "<table border=\"1\" class=\"dataframe\">\n",
              "  <thead>\n",
              "    <tr style=\"text-align: right;\">\n",
              "      <th></th>\n",
              "      <th>image</th>\n",
              "      <th>label</th>\n",
              "    </tr>\n",
              "  </thead>\n",
              "  <tbody>\n",
              "    <tr>\n",
              "      <th>0</th>\n",
              "      <td>/content/New Plant Diseases Dataset(Augmented)...</td>\n",
              "      <td>Blueberry___healthy</td>\n",
              "    </tr>\n",
              "    <tr>\n",
              "      <th>1</th>\n",
              "      <td>/content/New Plant Diseases Dataset(Augmented)...</td>\n",
              "      <td>Blueberry___healthy</td>\n",
              "    </tr>\n",
              "    <tr>\n",
              "      <th>2</th>\n",
              "      <td>/content/New Plant Diseases Dataset(Augmented)...</td>\n",
              "      <td>Blueberry___healthy</td>\n",
              "    </tr>\n",
              "    <tr>\n",
              "      <th>3</th>\n",
              "      <td>/content/New Plant Diseases Dataset(Augmented)...</td>\n",
              "      <td>Blueberry___healthy</td>\n",
              "    </tr>\n",
              "    <tr>\n",
              "      <th>4</th>\n",
              "      <td>/content/New Plant Diseases Dataset(Augmented)...</td>\n",
              "      <td>Blueberry___healthy</td>\n",
              "    </tr>\n",
              "    <tr>\n",
              "      <th>...</th>\n",
              "      <td>...</td>\n",
              "      <td>...</td>\n",
              "    </tr>\n",
              "    <tr>\n",
              "      <th>70290</th>\n",
              "      <td>/content/New Plant Diseases Dataset(Augmented)...</td>\n",
              "      <td>Strawberry___healthy</td>\n",
              "    </tr>\n",
              "    <tr>\n",
              "      <th>70291</th>\n",
              "      <td>/content/New Plant Diseases Dataset(Augmented)...</td>\n",
              "      <td>Strawberry___healthy</td>\n",
              "    </tr>\n",
              "    <tr>\n",
              "      <th>70292</th>\n",
              "      <td>/content/New Plant Diseases Dataset(Augmented)...</td>\n",
              "      <td>Strawberry___healthy</td>\n",
              "    </tr>\n",
              "    <tr>\n",
              "      <th>70293</th>\n",
              "      <td>/content/New Plant Diseases Dataset(Augmented)...</td>\n",
              "      <td>Strawberry___healthy</td>\n",
              "    </tr>\n",
              "    <tr>\n",
              "      <th>70294</th>\n",
              "      <td>/content/New Plant Diseases Dataset(Augmented)...</td>\n",
              "      <td>Strawberry___healthy</td>\n",
              "    </tr>\n",
              "  </tbody>\n",
              "</table>\n",
              "<p>70295 rows × 2 columns</p>\n",
              "</div>\n",
              "      <button class=\"colab-df-convert\" onclick=\"convertToInteractive('df-babd57f4-e598-4e44-88cd-d626cb41931a')\"\n",
              "              title=\"Convert this dataframe to an interactive table.\"\n",
              "              style=\"display:none;\">\n",
              "        \n",
              "  <svg xmlns=\"http://www.w3.org/2000/svg\" height=\"24px\"viewBox=\"0 0 24 24\"\n",
              "       width=\"24px\">\n",
              "    <path d=\"M0 0h24v24H0V0z\" fill=\"none\"/>\n",
              "    <path d=\"M18.56 5.44l.94 2.06.94-2.06 2.06-.94-2.06-.94-.94-2.06-.94 2.06-2.06.94zm-11 1L8.5 8.5l.94-2.06 2.06-.94-2.06-.94L8.5 2.5l-.94 2.06-2.06.94zm10 10l.94 2.06.94-2.06 2.06-.94-2.06-.94-.94-2.06-.94 2.06-2.06.94z\"/><path d=\"M17.41 7.96l-1.37-1.37c-.4-.4-.92-.59-1.43-.59-.52 0-1.04.2-1.43.59L10.3 9.45l-7.72 7.72c-.78.78-.78 2.05 0 2.83L4 21.41c.39.39.9.59 1.41.59.51 0 1.02-.2 1.41-.59l7.78-7.78 2.81-2.81c.8-.78.8-2.07 0-2.86zM5.41 20L4 18.59l7.72-7.72 1.47 1.35L5.41 20z\"/>\n",
              "  </svg>\n",
              "      </button>\n",
              "      \n",
              "  <style>\n",
              "    .colab-df-container {\n",
              "      display:flex;\n",
              "      flex-wrap:wrap;\n",
              "      gap: 12px;\n",
              "    }\n",
              "\n",
              "    .colab-df-convert {\n",
              "      background-color: #E8F0FE;\n",
              "      border: none;\n",
              "      border-radius: 50%;\n",
              "      cursor: pointer;\n",
              "      display: none;\n",
              "      fill: #1967D2;\n",
              "      height: 32px;\n",
              "      padding: 0 0 0 0;\n",
              "      width: 32px;\n",
              "    }\n",
              "\n",
              "    .colab-df-convert:hover {\n",
              "      background-color: #E2EBFA;\n",
              "      box-shadow: 0px 1px 2px rgba(60, 64, 67, 0.3), 0px 1px 3px 1px rgba(60, 64, 67, 0.15);\n",
              "      fill: #174EA6;\n",
              "    }\n",
              "\n",
              "    [theme=dark] .colab-df-convert {\n",
              "      background-color: #3B4455;\n",
              "      fill: #D2E3FC;\n",
              "    }\n",
              "\n",
              "    [theme=dark] .colab-df-convert:hover {\n",
              "      background-color: #434B5C;\n",
              "      box-shadow: 0px 1px 3px 1px rgba(0, 0, 0, 0.15);\n",
              "      filter: drop-shadow(0px 1px 2px rgba(0, 0, 0, 0.3));\n",
              "      fill: #FFFFFF;\n",
              "    }\n",
              "  </style>\n",
              "\n",
              "      <script>\n",
              "        const buttonEl =\n",
              "          document.querySelector('#df-babd57f4-e598-4e44-88cd-d626cb41931a button.colab-df-convert');\n",
              "        buttonEl.style.display =\n",
              "          google.colab.kernel.accessAllowed ? 'block' : 'none';\n",
              "\n",
              "        async function convertToInteractive(key) {\n",
              "          const element = document.querySelector('#df-babd57f4-e598-4e44-88cd-d626cb41931a');\n",
              "          const dataTable =\n",
              "            await google.colab.kernel.invokeFunction('convertToInteractive',\n",
              "                                                     [key], {});\n",
              "          if (!dataTable) return;\n",
              "\n",
              "          const docLinkHtml = 'Like what you see? Visit the ' +\n",
              "            '<a target=\"_blank\" href=https://colab.research.google.com/notebooks/data_table.ipynb>data table notebook</a>'\n",
              "            + ' to learn more about interactive tables.';\n",
              "          element.innerHTML = '';\n",
              "          dataTable['output_type'] = 'display_data';\n",
              "          await google.colab.output.renderOutput(dataTable, element);\n",
              "          const docLink = document.createElement('div');\n",
              "          docLink.innerHTML = docLinkHtml;\n",
              "          element.appendChild(docLink);\n",
              "        }\n",
              "      </script>\n",
              "    </div>\n",
              "  </div>\n",
              "  "
            ]
          },
          "metadata": {},
          "execution_count": 6
        }
      ]
    },
    {
      "cell_type": "code",
      "source": [
        "x = []\n",
        "for i in test['image']:\n",
        "    img = cv.imread(i)\n",
        "    img = cv.cvtColor(img,cv.COLOR_BGR2GRAY)\n",
        "    img = cv.resize(img,(64,64))\n",
        "    x.append(img)"
      ],
      "metadata": {
        "id": "pIcMJZ9ALcLF"
      },
      "execution_count": null,
      "outputs": []
    },
    {
      "cell_type": "code",
      "source": [
        "x = np.array(x).reshape(70295, 64, 64,1)\n",
        "np.save('image_array',x)"
      ],
      "metadata": {
        "id": "FtDhzt5KLe7I"
      },
      "execution_count": null,
      "outputs": []
    },
    {
      "cell_type": "code",
      "source": [
        "y = test['label']   \n",
        "le = LabelEncoder()\n",
        "y_label = le.fit_transform(y)"
      ],
      "metadata": {
        "id": "C_MR8z9LLiWm"
      },
      "execution_count": null,
      "outputs": []
    },
    {
      "cell_type": "code",
      "source": [
        "train_images,test_images,train_labels,test_labels = train_test_split(x,y_label,test_size=0.2,random_state=42)"
      ],
      "metadata": {
        "id": "2HW9pWQhLlVE"
      },
      "execution_count": null,
      "outputs": []
    },
    {
      "cell_type": "code",
      "source": [
        "train_images = train_images/255\n",
        "test_images = test_images/255"
      ],
      "metadata": {
        "id": "3uG04Q01LnMq"
      },
      "execution_count": null,
      "outputs": []
    },
    {
      "cell_type": "code",
      "source": [
        "y_test = pd.DataFrame(train_labels)"
      ],
      "metadata": {
        "id": "4gGPEBRiLnKV"
      },
      "execution_count": null,
      "outputs": []
    },
    {
      "cell_type": "markdown",
      "source": [
        "### **Building the 3-layered CNN**"
      ],
      "metadata": {
        "id": "y5fgomWrLsT5"
      }
    },
    {
      "cell_type": "code",
      "source": [
        "model = Sequential()\n",
        "model.add(Conv2D(128,(5,5),activation='relu',input_shape=(64,64,1)))\n",
        "model.add(MaxPool2D(2,2))\n",
        "model.add(Conv2D(256,(3,3),activation='relu',input_shape=(64,64,1)))\n",
        "model.add(MaxPool2D(2,2))\n",
        "model.add(Conv2D(256,(3,3),activation='relu',input_shape=(64,64,1)))\n",
        "model.add(MaxPool2D(2,2))\n",
        "model.add(Flatten())\n",
        "model.add(Dense(512,activation='relu'))\n",
        "model.add(Dense(38,activation='softmax'))\n",
        "\n",
        "model.compile(loss='sparse_categorical_crossentropy',optimizer='adam',metrics=['accuracy'])\n",
        "model.summary()"
      ],
      "metadata": {
        "colab": {
          "base_uri": "https://localhost:8080/"
        },
        "id": "kTe4GAnwLnIC",
        "outputId": "8ef3e8f9-08ab-43aa-fbe6-4c1a150ff958"
      },
      "execution_count": null,
      "outputs": [
        {
          "output_type": "stream",
          "name": "stdout",
          "text": [
            "Model: \"sequential_2\"\n",
            "_________________________________________________________________\n",
            " Layer (type)                Output Shape              Param #   \n",
            "=================================================================\n",
            " conv2d_6 (Conv2D)           (None, 60, 60, 128)       3328      \n",
            "                                                                 \n",
            " max_pooling2d_6 (MaxPooling  (None, 30, 30, 128)      0         \n",
            " 2D)                                                             \n",
            "                                                                 \n",
            " conv2d_7 (Conv2D)           (None, 28, 28, 256)       295168    \n",
            "                                                                 \n",
            " max_pooling2d_7 (MaxPooling  (None, 14, 14, 256)      0         \n",
            " 2D)                                                             \n",
            "                                                                 \n",
            " conv2d_8 (Conv2D)           (None, 12, 12, 256)       590080    \n",
            "                                                                 \n",
            " max_pooling2d_8 (MaxPooling  (None, 6, 6, 256)        0         \n",
            " 2D)                                                             \n",
            "                                                                 \n",
            " flatten_2 (Flatten)         (None, 9216)              0         \n",
            "                                                                 \n",
            " dense_4 (Dense)             (None, 512)               4719104   \n",
            "                                                                 \n",
            " dense_5 (Dense)             (None, 38)                19494     \n",
            "                                                                 \n",
            "=================================================================\n",
            "Total params: 5,627,174\n",
            "Trainable params: 5,627,174\n",
            "Non-trainable params: 0\n",
            "_________________________________________________________________\n"
          ]
        }
      ]
    },
    {
      "cell_type": "markdown",
      "source": [
        "## **Training the Model**"
      ],
      "metadata": {
        "id": "VW_11HiZMTUg"
      }
    },
    {
      "cell_type": "code",
      "source": [
        "history = model.fit(train_images,y_test,epochs=10,validation_data = (test_images,test_labels))"
      ],
      "metadata": {
        "colab": {
          "base_uri": "https://localhost:8080/"
        },
        "id": "M5NFFG7eLnFX",
        "outputId": "6b498229-ea51-4776-a799-97c5b65750a6"
      },
      "execution_count": null,
      "outputs": [
        {
          "output_type": "stream",
          "name": "stdout",
          "text": [
            "Epoch 1/10\n",
            "1758/1758 [==============================] - 33s 17ms/step - loss: 1.5539 - accuracy: 0.5396 - val_loss: 0.8769 - val_accuracy: 0.7180\n",
            "Epoch 2/10\n",
            "1758/1758 [==============================] - 30s 17ms/step - loss: 0.6567 - accuracy: 0.7890 - val_loss: 0.6812 - val_accuracy: 0.7796\n",
            "Epoch 3/10\n",
            "1758/1758 [==============================] - 30s 17ms/step - loss: 0.4039 - accuracy: 0.8671 - val_loss: 0.6082 - val_accuracy: 0.8088\n",
            "Epoch 4/10\n",
            "1758/1758 [==============================] - 30s 17ms/step - loss: 0.2509 - accuracy: 0.9152 - val_loss: 0.6518 - val_accuracy: 0.8121\n",
            "Epoch 5/10\n",
            "1758/1758 [==============================] - 30s 17ms/step - loss: 0.1722 - accuracy: 0.9423 - val_loss: 0.7786 - val_accuracy: 0.7996\n",
            "Epoch 6/10\n",
            "1758/1758 [==============================] - 30s 17ms/step - loss: 0.1363 - accuracy: 0.9536 - val_loss: 0.8785 - val_accuracy: 0.8013\n",
            "Epoch 7/10\n",
            "1758/1758 [==============================] - 30s 17ms/step - loss: 0.1149 - accuracy: 0.9606 - val_loss: 0.8680 - val_accuracy: 0.8025\n",
            "Epoch 8/10\n",
            "1758/1758 [==============================] - 30s 17ms/step - loss: 0.0990 - accuracy: 0.9668 - val_loss: 0.9090 - val_accuracy: 0.8131\n",
            "Epoch 9/10\n",
            "1758/1758 [==============================] - 30s 17ms/step - loss: 0.0890 - accuracy: 0.9701 - val_loss: 1.0342 - val_accuracy: 0.7932\n",
            "Epoch 10/10\n",
            "1758/1758 [==============================] - 30s 17ms/step - loss: 0.0828 - accuracy: 0.9721 - val_loss: 0.9402 - val_accuracy: 0.8163\n"
          ]
        }
      ]
    },
    {
      "cell_type": "markdown",
      "source": [
        "### **The 3-layered CNN gives 81.7% validation accuracy on the PlantVillage Dataset.**"
      ],
      "metadata": {
        "id": "S3IiPFpyMnUx"
      }
    },
    {
      "cell_type": "markdown",
      "source": [
        "## **Testing the Model**"
      ],
      "metadata": {
        "id": "a4AshcWgMi6A"
      }
    },
    {
      "cell_type": "code",
      "source": [
        "plt.imshow(test_images[25],cmap='Blues')\n",
        "print('printed label :',model.predict(test_images).argmax(axis=1)[25])\n",
        "print('actual label :', test_labels[25])"
      ],
      "metadata": {
        "colab": {
          "base_uri": "https://localhost:8080/",
          "height": 484
        },
        "id": "Sn4eWnLuMWL_",
        "outputId": "fee708b3-0a74-4a9d-f1fa-124e73e587ef"
      },
      "execution_count": null,
      "outputs": [
        {
          "output_type": "stream",
          "name": "stdout",
          "text": [
            "440/440 [==============================] - 2s 5ms/step\n",
            "printed label : 10\n",
            "actual label : 10\n"
          ]
        },
        {
          "output_type": "display_data",
          "data": {
            "text/plain": [
              "<Figure size 640x480 with 1 Axes>"
            ],
            "image/png": "[encoded data removed]"
          },
          "metadata": {}
        }
      ]
    },
    {
      "cell_type": "markdown",
      "source": [
        "## **Plotting the Accuracies**"
      ],
      "metadata": {
        "id": "7JvfWaHZP6ce"
      }
    },
    {
      "cell_type": "code",
      "source": [
        "plt.plot(history.history['accuracy'])\n",
        "plt.plot(history.history['val_accuracy'])\n",
        "plt.title('model accuracy')\n",
        "plt.ylabel('accuracy')\n",
        "plt.xlabel('epoch')\n",
        "plt.legend(['train', 'val'], loc='upper left')\n",
        "plt.show()"
      ],
      "metadata": {
        "colab": {
          "base_uri": "https://localhost:8080/",
          "height": 472
        },
        "id": "PjlFh8CWP6uH",
        "outputId": "9efbb013-4eb7-4b71-abab-4735afc5c917"
      },
      "execution_count": null,
      "outputs": [
        {
          "output_type": "display_data",
          "data": {
            "text/plain": [
              "<Figure size 640x480 with 1 Axes>"
            ],
            "image/png": "[encoded data removed]"
          },
          "metadata": {}
        }
      ]
    },
    {
      "cell_type": "code",
      "source": [],
      "metadata": {
        "id": "IovS6kM5SrzG"
      },
      "execution_count": null,
      "outputs": []
    }
  ]
}